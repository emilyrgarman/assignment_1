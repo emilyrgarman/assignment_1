{
 "cells": [
  {
   "cell_type": "markdown",
   "id": "87b91d83",
   "metadata": {},
   "source": [
    "# Assignment 1\n",
    "### Understanding Uncertainty\n",
    "### Due 9/5"
   ]
  },
  {
   "cell_type": "markdown",
   "id": "380e339f",
   "metadata": {},
   "source": [
    "1. Create a new public repo on Github under your account. Include a readme file.\n",
    "2. Clone it to your machine. Put this file into that repo.\n",
    "3. Use the following function to download the example data for the course:"
   ]
  },
  {
   "cell_type": "code",
   "execution_count": 1,
   "id": "2d62b4f6",
   "metadata": {},
   "outputs": [
    {
     "name": "stdout",
     "output_type": "stream",
     "text": [
      "Downloading course data\n",
      "Download complete\n",
      "Extracting data files...\n",
      "Data extracted\n"
     ]
    }
   ],
   "source": [
    "def download_data(force=False):\n",
    "    \"\"\"Download and extract course data from Zenodo.\"\"\"\n",
    "    import urllib.request, zipfile, os\n",
    "    \n",
    "    zip_path = 'data.zip'\n",
    "    data_dir = 'data'\n",
    "    \n",
    "    if not os.path.exists(zip_path) or force:\n",
    "        print(\"Downloading course data\")\n",
    "        urllib.request.urlretrieve(\n",
    "            'https://zenodo.org/records/16954427/files/data.zip?download=1',\n",
    "            zip_path\n",
    "        )\n",
    "        print(\"Download complete\")\n",
    "    else:\n",
    "        print(\"Download file already exists\")\n",
    "        \n",
    "    if not os.path.exists(data_dir) or force:\n",
    "        print(\"Extracting data files...\")\n",
    "        with zipfile.ZipFile(zip_path, 'r') as zip_ref:\n",
    "            zip_ref.extractall(data_dir)\n",
    "        print(\"Data extracted\")\n",
    "    else:\n",
    "        print(\"Data directory already exists\")\n",
    "\n",
    "download_data()"
   ]
  },
  {
   "cell_type": "markdown",
   "id": "01db0045",
   "metadata": {},
   "source": [
    "4. Open one of the datasets using Pandas:\n",
    "    1. `ames_prices.csv`: Housing characteristics and prices\n",
    "    2. `college_completion.csv`: Public, nonprofit, and for-profit educational institutions, graduation rates, and financial aid\n",
    "    3. `ForeignGifts_edu.csv`: Monetary and in-kind transfers from foreign entities to U.S. educational institutions\n",
    "    4. `iowa.csv`: Liquor sales in Iowa, at the transaction level\n",
    "    5. `metabric.csv`: Cancer patient and outcome data\n",
    "    6. `mn_police_use_of_force.csv`: Records of physical altercations between Minnessota police and private citizens\n",
    "    7. `nhanes_data_17_18.csv`: National Health and Nutrition Examination Survey\n",
    "    8. `tuna.csv`: Yellowfin Tuna Genome (I don't recommend this one; it's just a sequence of G, C, A, T )\n",
    "    9. `va_procurement.csv`: Public spending by the state of Virginia"
   ]
  },
  {
   "cell_type": "code",
   "execution_count": 3,
   "id": "11326a52",
   "metadata": {},
   "outputs": [],
   "source": [
    "import zipfile\n",
    "with zipfile.ZipFile('data.zip', 'r') as zip_ref:\n",
    "    zip_ref.extractall('data')"
   ]
  },
  {
   "cell_type": "code",
   "execution_count": 7,
   "id": "4de4b83b",
   "metadata": {},
   "outputs": [
    {
     "name": "stdout",
     "output_type": "stream",
     "text": [
      "  Invoice/Item Number        Date  Store Number                   Store Name  \\\n",
      "0     INV-59108400026  06/06/2023          3723           J D SPIRITS LIQUOR   \n",
      "1        S16879800057  01/16/2014          3926  LIQUOR DOWNTOWN / IOWA CITY   \n",
      "2     INV-05301100019  06/05/2017          3829     GARY'S FOODS / MT VERNON   \n",
      "3     INV-40973500083  10/14/2021          5102               WILKIE LIQUORS   \n",
      "4     INV-17022500013  01/18/2019          2560   HY-VEE FOOD STORE / MARION   \n",
      "\n",
      "  Zip Code          Category Name           Vendor Name  Item Number  \\\n",
      "0    51040  STRAIGHT RYE WHISKIES      INFINIUM SPIRITS        27102   \n",
      "1    52240         VODKA 80 PROOF    HEAVEN HILL BRANDS        35416   \n",
      "2    52314      CANADIAN WHISKIES       DIAGEO AMERICAS        11296   \n",
      "3    52314      AMERICAN SCHNAPPS       JIM BEAM BRANDS        82787   \n",
      "4    52302        WHISKEY LIQUEUR  SAZERAC COMPANY  INC        64863   \n",
      "\n",
      "            Item Description  Bottle Volume (ml)  State Bottle Cost  \\\n",
      "0          TEMPLETON RYE 4YR                 750              18.09   \n",
      "1     BURNETT'S VODKA 80 PRF                 750               4.84   \n",
      "2                CROWN ROYAL                 750              15.59   \n",
      "3       DEKUYPER BUTTERSHOTS                1000               7.87   \n",
      "4  FIREBALL CINNAMON WHISKEY                 200               2.50   \n",
      "\n",
      "   State Bottle Retail  Bottles Sold  Sale (Dollars)  \n",
      "0                27.14             2           54.28  \n",
      "1                 7.26            12           87.12  \n",
      "2                23.39             6          135.66  \n",
      "3                11.81            12          141.72  \n",
      "4                 3.75            12           45.00  \n"
     ]
    }
   ],
   "source": [
    "import pandas as pd\n",
    "df = pd.read_csv('data/iowa.csv')\n",
    "print(df.head())"
   ]
  },
  {
   "cell_type": "markdown",
   "id": "fa5cade1",
   "metadata": {},
   "source": [
    "5. Pick two or three variables and briefly analyze them\n",
    "    - Is it a categorical or numeric variable?\n",
    "    - How many missing values are there? (`df['var'].isna()` and `np.sum()`)\n",
    "    - If categorical, tabulate the values (`df['var'].value_counts()`) and if numeric, get a summary (`df['var'].describe()`)"
   ]
  },
  {
   "cell_type": "code",
   "execution_count": 19,
   "id": "5acafc83",
   "metadata": {},
   "outputs": [
    {
     "name": "stdout",
     "output_type": "stream",
     "text": [
      "Category Name has 133 missing values\n",
      "Category Name\n",
      "AMERICAN VODKAS              16611\n",
      "CANADIAN WHISKIES            15280\n",
      "STRAIGHT BOURBON WHISKIES    10416\n",
      "WHISKEY LIQUEUR               7789\n",
      "SPICED RUM                    7379\n",
      "                             ...  \n",
      "ROCK & RYE                      14\n",
      "LOW PROOF VODKA                 11\n",
      "ANISETTE                         7\n",
      "WHITE CREME DE MENTHE            6\n",
      "AMARETTO - IMPORTED              2\n",
      "Name: count, Length: 92, dtype: int64 \n",
      "\n",
      "Bottle Volume has 0 missing values\n",
      "count    159904.000000\n",
      "mean        869.592737\n",
      "std         513.812818\n",
      "min          20.000000\n",
      "25%         750.000000\n",
      "50%         750.000000\n",
      "75%        1000.000000\n",
      "max        6000.000000\n",
      "Name: Bottle Volume (ml), dtype: float64\n"
     ]
    }
   ],
   "source": [
    "import numpy as np\n",
    "# category name - categorical variable\n",
    "print(\"Category Name has \" + str(int(np.sum(df['Category Name'].isna()))) + \" missing values\")\n",
    "print(df['Category Name'].value_counts(), '\\n')\n",
    "\n",
    "# bottle volumne - numeric variable\n",
    "print(\"Bottle Volume has \" + str(int(np.sum(df['Bottle Volume (ml)'].isna()))) + \" missing values\")\n",
    "print(df['Bottle Volume (ml)'].describe())"
   ]
  },
  {
   "cell_type": "markdown",
   "id": "dbf2318a",
   "metadata": {},
   "source": [
    "6. What are some questions and prediction tools you could create using these data? Who would the stakeholder be for that prediction tool? What practical or ethical questions would it create? What other data would you want, that are not available in your data?"
   ]
  },
  {
   "cell_type": "markdown",
   "id": "3f449bd1",
   "metadata": {},
   "source": [
    "You could create prediction tools to answer the questions about the most common bottle volumes purchased based on the kind of liquor. Liquor stores and producers/marketers of the alcohol may be interested in these predictions so that they can produce a higher quantity of liquor in a more desired bottle volume rather than over-producing bottle volumes that are not purchased as often. This could save these stakeholders money down the line. Making these kinds of predictions raises questions about the privacy of the buyer. Should liqor stores and mass-producers be able to track the sales of liqor in this way? Does this enable these stakeholders to market their products in harmful ways to at-risk buyers through targeted advertising and price manipulation? I would also be interested in seeing the time of purchase and if the date of purchase was on a weekend/weekday, rather than just the date. Though perhaps not entirely ethical, this would help me to promote my product more effectively if I see patterns of purchase."
   ]
  },
  {
   "cell_type": "markdown",
   "id": "a4a7ddc7",
   "metadata": {},
   "source": [
    "7. Commit your work to the repo (`git commit -am 'Finish assignment'` at the command line, or use the Git panel in VS Code). Push your work back to Github and submit the link on Canvas in the assignment tab."
   ]
  }
 ],
 "metadata": {
  "kernelspec": {
   "display_name": "ds_uu",
   "language": "python",
   "name": "python3"
  },
  "language_info": {
   "codemirror_mode": {
    "name": "ipython",
    "version": 3
   },
   "file_extension": ".py",
   "mimetype": "text/x-python",
   "name": "python",
   "nbconvert_exporter": "python",
   "pygments_lexer": "ipython3",
   "version": "3.13.5"
  }
 },
 "nbformat": 4,
 "nbformat_minor": 5
}
